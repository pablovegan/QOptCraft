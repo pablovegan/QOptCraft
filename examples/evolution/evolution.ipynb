{
 "cells": [
  {
   "attachments": {},
   "cell_type": "markdown",
   "metadata": {},
   "source": [
    "## Scattering optical matrix to unitary"
   ]
  },
  {
   "cell_type": "code",
   "execution_count": 1,
   "metadata": {},
   "outputs": [],
   "source": [
    "from qoptcraft.operators import haar_random_unitary\n",
    "from qoptcraft.evolution import photon_unitary"
   ]
  },
  {
   "cell_type": "code",
   "execution_count": 9,
   "metadata": {},
   "outputs": [],
   "source": [
    "modes = 2\n",
    "photons = 2\n",
    "scattering = haar_random_unitary(modes)"
   ]
  },
  {
   "cell_type": "code",
   "execution_count": 10,
   "metadata": {},
   "outputs": [
    {
     "data": {
      "text/plain": [
       "array([[ 0.08646906-0.17953484j,  0.2982951 -0.4797357j ,\n",
       "         0.49329764-0.6307309j ],\n",
       "       [ 0.5622873 +0.05439995j,  0.5889957 +0.12178438j,\n",
       "        -0.5377542 -0.1730514j ],\n",
       "       [ 0.20271395+0.7746425j , -0.08358276-0.55869514j,\n",
       "         0.00817918+0.19910489j]], dtype=complex64)"
      ]
     },
     "execution_count": 10,
     "metadata": {},
     "output_type": "execute_result"
    }
   ],
   "source": [
    "photon_unitary(scattering, photons, method=\"heisenberg\")"
   ]
  },
  {
   "cell_type": "code",
   "execution_count": 13,
   "metadata": {},
   "outputs": [
    {
     "data": {
      "text/plain": [
       "array([[ 0.08646906-0.17953483j,  0.29829512-0.4797357j ,\n",
       "         0.49329763-0.6307309j ],\n",
       "       [ 0.56228727+0.05439995j,  0.58899569+0.12178438j,\n",
       "        -0.53775416-0.1730514j ],\n",
       "       [ 0.20271395+0.77464255j, -0.08358276-0.55869513j,\n",
       "         0.00817918+0.19910489j]])"
      ]
     },
     "execution_count": 13,
     "metadata": {},
     "output_type": "execute_result"
    }
   ],
   "source": [
    "photon_unitary(scattering, photons, method=\"hamiltonian\")"
   ]
  },
  {
   "cell_type": "code",
   "execution_count": 14,
   "metadata": {},
   "outputs": [
    {
     "data": {
      "text/plain": [
       "array([[ 0.08646906-0.17953483j,  0.29829512-0.4797357j ,\n",
       "         0.49329763-0.6307309j ],\n",
       "       [ 0.56228727+0.05439995j,  0.58899569+0.12178438j,\n",
       "        -0.53775416-0.1730514j ],\n",
       "       [ 0.20271395+0.77464255j, -0.08358276-0.55869513j,\n",
       "         0.00817918+0.19910489j]])"
      ]
     },
     "execution_count": 14,
     "metadata": {},
     "output_type": "execute_result"
    }
   ],
   "source": [
    "photon_unitary(scattering, photons, method=\"permanent glynn\")"
   ]
  },
  {
   "cell_type": "code",
   "execution_count": 15,
   "metadata": {},
   "outputs": [
    {
     "data": {
      "text/plain": [
       "array([[ 0.08646906-0.17953483j,  0.29829512-0.4797357j ,\n",
       "         0.49329763-0.6307309j ],\n",
       "       [ 0.56228727+0.05439995j,  0.58899569+0.12178438j,\n",
       "        -0.53775416-0.1730514j ],\n",
       "       [ 0.20271395+0.77464255j, -0.08358276-0.55869513j,\n",
       "         0.00817918+0.19910489j]])"
      ]
     },
     "execution_count": 15,
     "metadata": {},
     "output_type": "execute_result"
    }
   ],
   "source": [
    "photon_unitary(scattering, photons, method=\"permanent ryser\")"
   ]
  },
  {
   "attachments": {},
   "cell_type": "markdown",
   "metadata": {},
   "source": [
    "## Unitary matrix to scattering optical matrix"
   ]
  },
  {
   "cell_type": "code",
   "execution_count": 4,
   "metadata": {},
   "outputs": [],
   "source": [
    "from qoptcraft import haar_random_unitary, photon_unitary, scattering_from_unitary"
   ]
  },
  {
   "cell_type": "code",
   "execution_count": 5,
   "metadata": {},
   "outputs": [
    {
     "name": "stdout",
     "output_type": "stream",
     "text": [
      "[[ 0.56177113-0.56664099j -0.49580864-0.34279j   ]\n",
      " [-0.59814006-0.07456307j -0.04159223-0.79683053j]]\n"
     ]
    }
   ],
   "source": [
    "modes = 2\n",
    "photons = 2\n",
    "S = haar_random_unitary(modes)\n",
    "print(S)"
   ]
  },
  {
   "cell_type": "code",
   "execution_count": 6,
   "metadata": {},
   "outputs": [
    {
     "name": "stdout",
     "output_type": "stream",
     "text": [
      "[[ 0.79791529+0.j         -0.10564042-0.59344022j]\n",
      " [-0.36816856-0.47726628j  0.5365877 -0.5905442j ]]\n"
     ]
    }
   ],
   "source": [
    "U = photon_unitary(S, photons)\n",
    "S_rebuilt = scattering_from_unitary(U, modes, photons)\n",
    "print(S_rebuilt)"
   ]
  },
  {
   "attachments": {},
   "cell_type": "markdown",
   "metadata": {},
   "source": [
    "We can check that both matrices are proportional:"
   ]
  },
  {
   "cell_type": "code",
   "execution_count": 7,
   "metadata": {},
   "outputs": [
    {
     "data": {
      "text/plain": [
       "array([[ 7.04048577e-01+7.10151815e-01j, -1.11022302e-16+1.73472348e-16j],\n",
       "       [ 2.77555756e-16-8.32667268e-17j,  7.04048577e-01+7.10151815e-01j]])"
      ]
     },
     "execution_count": 7,
     "metadata": {},
     "output_type": "execute_result"
    }
   ],
   "source": [
    "S.conj().T @ S_rebuilt"
   ]
  }
 ],
 "metadata": {
  "kernelspec": {
   "display_name": "quantum",
   "language": "python",
   "name": "python3"
  },
  "language_info": {
   "codemirror_mode": {
    "name": "ipython",
    "version": 3
   },
   "file_extension": ".py",
   "mimetype": "text/x-python",
   "name": "python",
   "nbconvert_exporter": "python",
   "pygments_lexer": "ipython3",
   "version": "3.11.3"
  },
  "orig_nbformat": 4
 },
 "nbformat": 4,
 "nbformat_minor": 2
}
